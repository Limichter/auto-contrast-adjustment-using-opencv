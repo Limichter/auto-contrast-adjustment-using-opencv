{
 "cells": [
  {
   "cell_type": "code",
   "execution_count": 4,
   "metadata": {},
   "outputs": [
    {
     "name": "stdout",
     "output_type": "stream",
     "text": [
      "File Name :BalonUdara.jpg\n"
     ]
    },
    {
     "data": {
      "text/plain": [
       "-1"
      ]
     },
     "execution_count": 4,
     "metadata": {},
     "output_type": "execute_result"
    }
   ],
   "source": [
    "import cv2\n",
    "import numpy as np\n",
    "\n",
    "image = cv2.imread(input(\"File Name :\")) \n",
    "img = cv2.cvtColor(image, cv2.COLOR_BGR2GRAY)\n",
    "row, col = img.shape[:2]\n",
    "\n",
    "\n",
    "def df(img):\n",
    "    values = [0]*256\n",
    "    for i in range(img.shape[0]):\n",
    "        for j in range(img.shape[1]):\n",
    "            values[img[i,j]]+=1\n",
    "    return values\n",
    "\n",
    "\n",
    "def cdf(hist):\n",
    "    cdf = [0] * len(hist)\n",
    "    cdf[0] = hist[0]\n",
    "    for i in range(1, len(hist)):\n",
    "        cdf[i]= cdf[i-1]+hist[i]\n",
    "    cdf = [ele*255/cdf[-1] for ele in cdf]\n",
    "    return cdf\n",
    "\n",
    "def equalize_image(image):\n",
    "    my_cdf = cdf(df(img))\n",
    "    image_equalized = np.interp(image, range(0,256), my_cdf)\n",
    "    return image_equalized\n",
    "\n",
    "eq = equalize_image(img)\n",
    "cv2.imwrite('equalized.jpg', eq)\n",
    "\n",
    "show = cv2.imread('equalized.jpg')\n",
    "cv2.imshow('Real Image', image)\n",
    "cv2.imshow('Equalized', show)\n",
    "cv2.waitKey(0)"
   ]
  },
  {
   "cell_type": "code",
   "execution_count": null,
   "metadata": {},
   "outputs": [],
   "source": []
  }
 ],
 "metadata": {
  "kernelspec": {
   "display_name": "Python 3",
   "language": "python",
   "name": "python3"
  },
  "language_info": {
   "codemirror_mode": {
    "name": "ipython",
    "version": 3
   },
   "file_extension": ".py",
   "mimetype": "text/x-python",
   "name": "python",
   "nbconvert_exporter": "python",
   "pygments_lexer": "ipython3",
   "version": "3.7.3"
  }
 },
 "nbformat": 4,
 "nbformat_minor": 2
}
